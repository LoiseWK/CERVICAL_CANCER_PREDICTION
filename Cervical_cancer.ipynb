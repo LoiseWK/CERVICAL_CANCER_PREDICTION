{
 "cells": [
  {
   "cell_type": "markdown",
   "id": "acdba6c4",
   "metadata": {},
   "source": [
    "# CERVICAL CANCER EDA"
   ]
  },
  {
   "cell_type": "code",
   "execution_count": 51,
   "id": "b48658b9",
   "metadata": {},
   "outputs": [],
   "source": [
    "# importing necesssary libraries\n",
    "import pandas as pd # for data manipulation\n",
    "import numpy as np # for numeric computation\n",
    "import matplotlib.pyplot as plt # for data visualization\n",
    "import seaborn as sns # for statistical plots\n",
    "import warnings\n",
    "warnings.filterwarnings('ignore') # supress warnings"
   ]
  },
  {
   "cell_type": "code",
   "execution_count": 52,
   "id": "b67109fe",
   "metadata": {},
   "outputs": [],
   "source": [
    "cervical = pd.read_excel(\"Dataset\\Cervical Cancer Datasets_.xlsx\")"
   ]
  },
  {
   "cell_type": "code",
   "execution_count": 53,
   "id": "5bbcd553",
   "metadata": {},
   "outputs": [
    {
     "data": {
      "text/html": [
       "<div>\n",
       "<style scoped>\n",
       "    .dataframe tbody tr th:only-of-type {\n",
       "        vertical-align: middle;\n",
       "    }\n",
       "\n",
       "    .dataframe tbody tr th {\n",
       "        vertical-align: top;\n",
       "    }\n",
       "\n",
       "    .dataframe thead th {\n",
       "        text-align: right;\n",
       "    }\n",
       "</style>\n",
       "<table border=\"1\" class=\"dataframe\">\n",
       "  <thead>\n",
       "    <tr style=\"text-align: right;\">\n",
       "      <th></th>\n",
       "      <th>Patient ID</th>\n",
       "      <th>Age</th>\n",
       "      <th>Sexual Partners</th>\n",
       "      <th>First Sexual Activity Age</th>\n",
       "      <th>HPV Test Result</th>\n",
       "      <th>Pap Smear Result</th>\n",
       "      <th>Smoking Status</th>\n",
       "      <th>STDs History</th>\n",
       "      <th>Region</th>\n",
       "      <th>Insrance Covered</th>\n",
       "      <th>Screening Type Last</th>\n",
       "      <th>Recommended Action</th>\n",
       "      <th>Unnamed: 12</th>\n",
       "    </tr>\n",
       "  </thead>\n",
       "  <tbody>\n",
       "    <tr>\n",
       "      <th>0</th>\n",
       "      <td>P0001</td>\n",
       "      <td>18</td>\n",
       "      <td>4</td>\n",
       "      <td>15</td>\n",
       "      <td>NEGATIVE</td>\n",
       "      <td>N</td>\n",
       "      <td>N</td>\n",
       "      <td>Y</td>\n",
       "      <td>Pumwani</td>\n",
       "      <td>Y</td>\n",
       "      <td>PAP SMEAR</td>\n",
       "      <td>REPEAT PAP SMEAR IN 3 YEARS AND FOR HPV VACCINE</td>\n",
       "      <td>NaN</td>\n",
       "    </tr>\n",
       "    <tr>\n",
       "      <th>1</th>\n",
       "      <td>P0002</td>\n",
       "      <td>15</td>\n",
       "      <td>1</td>\n",
       "      <td>14</td>\n",
       "      <td>POSITIVE</td>\n",
       "      <td>N</td>\n",
       "      <td>Y</td>\n",
       "      <td>Y</td>\n",
       "      <td>Kakamega</td>\n",
       "      <td>N</td>\n",
       "      <td>HPV DNA</td>\n",
       "      <td>FOR HPV VACCINE AND SEXUAL EDUCATION</td>\n",
       "      <td>NaN</td>\n",
       "    </tr>\n",
       "    <tr>\n",
       "      <th>2</th>\n",
       "      <td>P0003</td>\n",
       "      <td>34</td>\n",
       "      <td>1</td>\n",
       "      <td>9</td>\n",
       "      <td>POSITIVE</td>\n",
       "      <td>N</td>\n",
       "      <td>N</td>\n",
       "      <td>Y</td>\n",
       "      <td>Machakos</td>\n",
       "      <td>N</td>\n",
       "      <td>HPV DNA</td>\n",
       "      <td>FOR HPV VACCINE AND SEXUAL EDUCATION</td>\n",
       "      <td>NaN</td>\n",
       "    </tr>\n",
       "    <tr>\n",
       "      <th>3</th>\n",
       "      <td>P0004</td>\n",
       "      <td>52</td>\n",
       "      <td>5</td>\n",
       "      <td>16</td>\n",
       "      <td>POSITIVE</td>\n",
       "      <td>N</td>\n",
       "      <td>Y</td>\n",
       "      <td>N</td>\n",
       "      <td>Embu</td>\n",
       "      <td>Y</td>\n",
       "      <td>HPV DNA</td>\n",
       "      <td>FOR HPV VACCINE, LIFESTYLE AND SEXUAL EDUCATION</td>\n",
       "      <td>NaN</td>\n",
       "    </tr>\n",
       "    <tr>\n",
       "      <th>4</th>\n",
       "      <td>P0005</td>\n",
       "      <td>46</td>\n",
       "      <td>3</td>\n",
       "      <td>21</td>\n",
       "      <td>POSITIVE</td>\n",
       "      <td>N</td>\n",
       "      <td>N</td>\n",
       "      <td>N</td>\n",
       "      <td>Mombasa</td>\n",
       "      <td>N</td>\n",
       "      <td>HPV DNA</td>\n",
       "      <td>FOR HPV VACCINE AND SEXUAL EDUCATION</td>\n",
       "      <td>NaN</td>\n",
       "    </tr>\n",
       "    <tr>\n",
       "      <th>5</th>\n",
       "      <td>P0006</td>\n",
       "      <td>42</td>\n",
       "      <td>3</td>\n",
       "      <td>23</td>\n",
       "      <td>NEGATIVE</td>\n",
       "      <td>N</td>\n",
       "      <td>N</td>\n",
       "      <td>N</td>\n",
       "      <td>Embu</td>\n",
       "      <td>N</td>\n",
       "      <td>PAP SMEAR</td>\n",
       "      <td>REPEAT PAP SMEAR IN 3 YEARS AND FOR HPV VACCINE</td>\n",
       "      <td>NaN</td>\n",
       "    </tr>\n",
       "    <tr>\n",
       "      <th>6</th>\n",
       "      <td>P0007</td>\n",
       "      <td>51</td>\n",
       "      <td>3</td>\n",
       "      <td>27</td>\n",
       "      <td>POSITIVE</td>\n",
       "      <td>Y</td>\n",
       "      <td>Y</td>\n",
       "      <td>Y</td>\n",
       "      <td>Embu</td>\n",
       "      <td>Y</td>\n",
       "      <td>PAP SMEAR</td>\n",
       "      <td>FOR COLPOSCOPY CYTOLOGY AND BIOPSY</td>\n",
       "      <td>NaN</td>\n",
       "    </tr>\n",
       "    <tr>\n",
       "      <th>7</th>\n",
       "      <td>P0008</td>\n",
       "      <td>26</td>\n",
       "      <td>1</td>\n",
       "      <td>26</td>\n",
       "      <td>NEGATIVE</td>\n",
       "      <td>N</td>\n",
       "      <td>Y</td>\n",
       "      <td>N</td>\n",
       "      <td>Embu</td>\n",
       "      <td>N</td>\n",
       "      <td>PAP SMEAR</td>\n",
       "      <td>REPEAT PAP SMEAR IN 3 YEARS</td>\n",
       "      <td>NaN</td>\n",
       "    </tr>\n",
       "    <tr>\n",
       "      <th>8</th>\n",
       "      <td>P0009</td>\n",
       "      <td>49</td>\n",
       "      <td>1</td>\n",
       "      <td>20</td>\n",
       "      <td>POSITIVE</td>\n",
       "      <td>Y</td>\n",
       "      <td>Y</td>\n",
       "      <td>Y</td>\n",
       "      <td>Embu</td>\n",
       "      <td>Y</td>\n",
       "      <td>PAP SMEAR</td>\n",
       "      <td>FOR COLPOSCOPY BIOSY, CYTOLOGY+/- TAH</td>\n",
       "      <td>NaN</td>\n",
       "    </tr>\n",
       "    <tr>\n",
       "      <th>9</th>\n",
       "      <td>P0010</td>\n",
       "      <td>89</td>\n",
       "      <td>3</td>\n",
       "      <td>15</td>\n",
       "      <td>NEGATIVE</td>\n",
       "      <td>N</td>\n",
       "      <td>N</td>\n",
       "      <td>Y</td>\n",
       "      <td>NAKURU</td>\n",
       "      <td>Y</td>\n",
       "      <td>VIA</td>\n",
       "      <td>FOR BIOPSY AND CYTOLOGY WITH TAH NOT RECOMMENDED</td>\n",
       "      <td>NaN</td>\n",
       "    </tr>\n",
       "  </tbody>\n",
       "</table>\n",
       "</div>"
      ],
      "text/plain": [
       "  Patient ID  Age  Sexual Partners  First Sexual Activity Age HPV Test Result  \\\n",
       "0      P0001   18                4                         15        NEGATIVE   \n",
       "1      P0002   15                1                         14        POSITIVE   \n",
       "2      P0003   34                1                          9        POSITIVE   \n",
       "3      P0004   52                5                         16        POSITIVE   \n",
       "4      P0005   46                3                         21        POSITIVE   \n",
       "5      P0006   42                3                         23        NEGATIVE   \n",
       "6      P0007   51                3                         27        POSITIVE   \n",
       "7      P0008   26                1                         26        NEGATIVE   \n",
       "8      P0009   49                1                         20        POSITIVE   \n",
       "9      P0010   89                3                         15        NEGATIVE   \n",
       "\n",
       "  Pap Smear Result Smoking Status STDs History     Region Insrance Covered  \\\n",
       "0                N              N            Y   Pumwani                 Y   \n",
       "1                N              Y            Y  Kakamega                 N   \n",
       "2                N              N            Y   Machakos                N   \n",
       "3                N              Y            N      Embu                 Y   \n",
       "4                N              N            N    Mombasa                N   \n",
       "5                N              N            N      Embu                 N   \n",
       "6                Y              Y            Y      Embu                 Y   \n",
       "7                N              Y            N      Embu                 N   \n",
       "8                Y              Y            Y      Embu                 Y   \n",
       "9                N              N            Y     NAKURU                Y   \n",
       "\n",
       "  Screening Type Last                                 Recommended Action  \\\n",
       "0           PAP SMEAR    REPEAT PAP SMEAR IN 3 YEARS AND FOR HPV VACCINE   \n",
       "1             HPV DNA               FOR HPV VACCINE AND SEXUAL EDUCATION   \n",
       "2             HPV DNA               FOR HPV VACCINE AND SEXUAL EDUCATION   \n",
       "3             HPV DNA    FOR HPV VACCINE, LIFESTYLE AND SEXUAL EDUCATION   \n",
       "4             HPV DNA               FOR HPV VACCINE AND SEXUAL EDUCATION   \n",
       "5           PAP SMEAR    REPEAT PAP SMEAR IN 3 YEARS AND FOR HPV VACCINE   \n",
       "6           PAP SMEAR                 FOR COLPOSCOPY CYTOLOGY AND BIOPSY   \n",
       "7           PAP SMEAR                        REPEAT PAP SMEAR IN 3 YEARS   \n",
       "8           PAP SMEAR              FOR COLPOSCOPY BIOSY, CYTOLOGY+/- TAH   \n",
       "9                 VIA  FOR BIOPSY AND CYTOLOGY WITH TAH NOT RECOMMENDED    \n",
       "\n",
       "  Unnamed: 12  \n",
       "0         NaN  \n",
       "1         NaN  \n",
       "2         NaN  \n",
       "3         NaN  \n",
       "4         NaN  \n",
       "5         NaN  \n",
       "6         NaN  \n",
       "7         NaN  \n",
       "8         NaN  \n",
       "9         NaN  "
      ]
     },
     "execution_count": 53,
     "metadata": {},
     "output_type": "execute_result"
    }
   ],
   "source": [
    "cervical.head(10)"
   ]
  },
  {
   "cell_type": "code",
   "execution_count": 54,
   "id": "697c5658",
   "metadata": {},
   "outputs": [],
   "source": [
    "# drop column unnamed\n",
    "cervical.drop(columns=[\"Unnamed: 12\"], inplace=True)"
   ]
  },
  {
   "cell_type": "code",
   "execution_count": 55,
   "id": "7862db9f",
   "metadata": {},
   "outputs": [
    {
     "data": {
      "text/html": [
       "<div>\n",
       "<style scoped>\n",
       "    .dataframe tbody tr th:only-of-type {\n",
       "        vertical-align: middle;\n",
       "    }\n",
       "\n",
       "    .dataframe tbody tr th {\n",
       "        vertical-align: top;\n",
       "    }\n",
       "\n",
       "    .dataframe thead th {\n",
       "        text-align: right;\n",
       "    }\n",
       "</style>\n",
       "<table border=\"1\" class=\"dataframe\">\n",
       "  <thead>\n",
       "    <tr style=\"text-align: right;\">\n",
       "      <th></th>\n",
       "      <th>Patient ID</th>\n",
       "      <th>Age</th>\n",
       "      <th>Sexual Partners</th>\n",
       "      <th>First Sexual Activity Age</th>\n",
       "      <th>HPV Test Result</th>\n",
       "      <th>Pap Smear Result</th>\n",
       "      <th>Smoking Status</th>\n",
       "      <th>STDs History</th>\n",
       "      <th>Region</th>\n",
       "      <th>Insrance Covered</th>\n",
       "      <th>Screening Type Last</th>\n",
       "      <th>Recommended Action</th>\n",
       "    </tr>\n",
       "  </thead>\n",
       "  <tbody>\n",
       "    <tr>\n",
       "      <th>0</th>\n",
       "      <td>P0001</td>\n",
       "      <td>18</td>\n",
       "      <td>4</td>\n",
       "      <td>15</td>\n",
       "      <td>NEGATIVE</td>\n",
       "      <td>N</td>\n",
       "      <td>N</td>\n",
       "      <td>Y</td>\n",
       "      <td>Pumwani</td>\n",
       "      <td>Y</td>\n",
       "      <td>PAP SMEAR</td>\n",
       "      <td>REPEAT PAP SMEAR IN 3 YEARS AND FOR HPV VACCINE</td>\n",
       "    </tr>\n",
       "    <tr>\n",
       "      <th>1</th>\n",
       "      <td>P0002</td>\n",
       "      <td>15</td>\n",
       "      <td>1</td>\n",
       "      <td>14</td>\n",
       "      <td>POSITIVE</td>\n",
       "      <td>N</td>\n",
       "      <td>Y</td>\n",
       "      <td>Y</td>\n",
       "      <td>Kakamega</td>\n",
       "      <td>N</td>\n",
       "      <td>HPV DNA</td>\n",
       "      <td>FOR HPV VACCINE AND SEXUAL EDUCATION</td>\n",
       "    </tr>\n",
       "    <tr>\n",
       "      <th>2</th>\n",
       "      <td>P0003</td>\n",
       "      <td>34</td>\n",
       "      <td>1</td>\n",
       "      <td>9</td>\n",
       "      <td>POSITIVE</td>\n",
       "      <td>N</td>\n",
       "      <td>N</td>\n",
       "      <td>Y</td>\n",
       "      <td>Machakos</td>\n",
       "      <td>N</td>\n",
       "      <td>HPV DNA</td>\n",
       "      <td>FOR HPV VACCINE AND SEXUAL EDUCATION</td>\n",
       "    </tr>\n",
       "    <tr>\n",
       "      <th>3</th>\n",
       "      <td>P0004</td>\n",
       "      <td>52</td>\n",
       "      <td>5</td>\n",
       "      <td>16</td>\n",
       "      <td>POSITIVE</td>\n",
       "      <td>N</td>\n",
       "      <td>Y</td>\n",
       "      <td>N</td>\n",
       "      <td>Embu</td>\n",
       "      <td>Y</td>\n",
       "      <td>HPV DNA</td>\n",
       "      <td>FOR HPV VACCINE, LIFESTYLE AND SEXUAL EDUCATION</td>\n",
       "    </tr>\n",
       "    <tr>\n",
       "      <th>4</th>\n",
       "      <td>P0005</td>\n",
       "      <td>46</td>\n",
       "      <td>3</td>\n",
       "      <td>21</td>\n",
       "      <td>POSITIVE</td>\n",
       "      <td>N</td>\n",
       "      <td>N</td>\n",
       "      <td>N</td>\n",
       "      <td>Mombasa</td>\n",
       "      <td>N</td>\n",
       "      <td>HPV DNA</td>\n",
       "      <td>FOR HPV VACCINE AND SEXUAL EDUCATION</td>\n",
       "    </tr>\n",
       "  </tbody>\n",
       "</table>\n",
       "</div>"
      ],
      "text/plain": [
       "  Patient ID  Age  Sexual Partners  First Sexual Activity Age HPV Test Result  \\\n",
       "0      P0001   18                4                         15        NEGATIVE   \n",
       "1      P0002   15                1                         14        POSITIVE   \n",
       "2      P0003   34                1                          9        POSITIVE   \n",
       "3      P0004   52                5                         16        POSITIVE   \n",
       "4      P0005   46                3                         21        POSITIVE   \n",
       "\n",
       "  Pap Smear Result Smoking Status STDs History     Region Insrance Covered  \\\n",
       "0                N              N            Y   Pumwani                 Y   \n",
       "1                N              Y            Y  Kakamega                 N   \n",
       "2                N              N            Y   Machakos                N   \n",
       "3                N              Y            N      Embu                 Y   \n",
       "4                N              N            N    Mombasa                N   \n",
       "\n",
       "  Screening Type Last                               Recommended Action  \n",
       "0           PAP SMEAR  REPEAT PAP SMEAR IN 3 YEARS AND FOR HPV VACCINE  \n",
       "1             HPV DNA             FOR HPV VACCINE AND SEXUAL EDUCATION  \n",
       "2             HPV DNA             FOR HPV VACCINE AND SEXUAL EDUCATION  \n",
       "3             HPV DNA  FOR HPV VACCINE, LIFESTYLE AND SEXUAL EDUCATION  \n",
       "4             HPV DNA             FOR HPV VACCINE AND SEXUAL EDUCATION  "
      ]
     },
     "execution_count": 55,
     "metadata": {},
     "output_type": "execute_result"
    }
   ],
   "source": [
    "cervical.head(5)"
   ]
  },
  {
   "cell_type": "code",
   "execution_count": 56,
   "id": "f196cc8a",
   "metadata": {},
   "outputs": [],
   "source": [
    "# Performing categorical-to-numerical encoding\n",
    "#.map() is used to convert categorical text to numbers for ML models.'Y' → 1 and 'N' → 0 because models need numerical input.\n",
    "# Fix data entry errors (like \"NEGAGTIVE\" in row 23)\n",
    "cervical['HPV Test Result'] = cervical['HPV Test Result'].str.upper().replace({'NEGAGTIVE': 'NEGATIVE'})\n",
    "\n",
    "# Convert categorical variables to appropriate types\n",
    "cervical['HPV Test Result'] = cervical['HPV Test Result'].map({'POSITIVE': 1, 'NEGATIVE': 0})\n",
    "cervical['Pap Smear Result'] = cervical['Pap Smear Result'].map({'Y': 1, 'N': 0})\n",
    "cervical['Smoking Status'] = cervical['Smoking Status'].map({'Y': 1, 'N': 0})\n",
    "cervical['STDs History'] = cervical['STDs History'].map({'Y': 1, 'N': 0})\n",
    "cervical['Insrance Covered'] = cervical['Insrance Covered'].map({'Y': 1, 'N': 0})\n",
    "\n",
    "# Extract key information from Recommended Action\n",
    "cervical['Needs_Colposcopy'] = cervical['Recommended Action'].str.contains('COLPOSCOPY', case=False).astype(int)\n",
    "cervical['Needs_Vaccine'] = cervical['Recommended Action'].str.contains('VACCINE', case=False).astype(int)\n",
    "cervical['Needs_Biopsy'] = cervical['Recommended Action'].str.contains('BIOPSY', case=False).astype(int)"
   ]
  },
  {
   "cell_type": "markdown",
   "id": "eabb18f3",
   "metadata": {},
   "source": [
    "# SIZE OF THE DATASET\n"
   ]
  },
  {
   "cell_type": "code",
   "execution_count": 57,
   "id": "ba8107a8",
   "metadata": {},
   "outputs": [
    {
     "name": "stdout",
     "output_type": "stream",
     "text": [
      "The dataset has 100 rows and 15 columns.\n"
     ]
    }
   ],
   "source": [
    "print(f'The dataset has {cervical.shape[0]} rows and {cervical.shape[1]} columns.')"
   ]
  },
  {
   "cell_type": "markdown",
   "id": "f5e25ea0",
   "metadata": {},
   "source": [
    "# SUMMARY OF COLUMNS AND DATATYPES"
   ]
  },
  {
   "cell_type": "code",
   "execution_count": 58,
   "id": "b3cf33c8",
   "metadata": {},
   "outputs": [
    {
     "name": "stdout",
     "output_type": "stream",
     "text": [
      "<class 'pandas.core.frame.DataFrame'>\n",
      "RangeIndex: 100 entries, 0 to 99\n",
      "Data columns (total 15 columns):\n",
      " #   Column                     Non-Null Count  Dtype  \n",
      "---  ------                     --------------  -----  \n",
      " 0   Patient ID                 100 non-null    object \n",
      " 1   Age                        100 non-null    int64  \n",
      " 2   Sexual Partners            100 non-null    int64  \n",
      " 3   First Sexual Activity Age  100 non-null    int64  \n",
      " 4   HPV Test Result            94 non-null     float64\n",
      " 5   Pap Smear Result           100 non-null    int64  \n",
      " 6   Smoking Status             100 non-null    int64  \n",
      " 7   STDs History               100 non-null    int64  \n",
      " 8   Region                     100 non-null    object \n",
      " 9   Insrance Covered           100 non-null    int64  \n",
      " 10  Screening Type Last        100 non-null    object \n",
      " 11  Recommended Action         100 non-null    object \n",
      " 12  Needs_Colposcopy           100 non-null    int64  \n",
      " 13  Needs_Vaccine              100 non-null    int64  \n",
      " 14  Needs_Biopsy               100 non-null    int64  \n",
      "dtypes: float64(1), int64(10), object(4)\n",
      "memory usage: 11.8+ KB\n"
     ]
    }
   ],
   "source": [
    "cervical.info()"
   ]
  },
  {
   "cell_type": "markdown",
   "id": "0c58bff4",
   "metadata": {},
   "source": [
    "# STATISTICAL SUMMARY"
   ]
  },
  {
   "cell_type": "code",
   "execution_count": 59,
   "id": "415f33b0",
   "metadata": {},
   "outputs": [
    {
     "data": {
      "text/html": [
       "<div>\n",
       "<style scoped>\n",
       "    .dataframe tbody tr th:only-of-type {\n",
       "        vertical-align: middle;\n",
       "    }\n",
       "\n",
       "    .dataframe tbody tr th {\n",
       "        vertical-align: top;\n",
       "    }\n",
       "\n",
       "    .dataframe thead th {\n",
       "        text-align: right;\n",
       "    }\n",
       "</style>\n",
       "<table border=\"1\" class=\"dataframe\">\n",
       "  <thead>\n",
       "    <tr style=\"text-align: right;\">\n",
       "      <th></th>\n",
       "      <th>Age</th>\n",
       "      <th>Sexual Partners</th>\n",
       "      <th>First Sexual Activity Age</th>\n",
       "      <th>HPV Test Result</th>\n",
       "      <th>Pap Smear Result</th>\n",
       "      <th>Smoking Status</th>\n",
       "      <th>STDs History</th>\n",
       "      <th>Insrance Covered</th>\n",
       "      <th>Needs_Colposcopy</th>\n",
       "      <th>Needs_Vaccine</th>\n",
       "      <th>Needs_Biopsy</th>\n",
       "    </tr>\n",
       "  </thead>\n",
       "  <tbody>\n",
       "    <tr>\n",
       "      <th>count</th>\n",
       "      <td>100.000000</td>\n",
       "      <td>100.000000</td>\n",
       "      <td>100.000000</td>\n",
       "      <td>94.000000</td>\n",
       "      <td>100.000000</td>\n",
       "      <td>100.000000</td>\n",
       "      <td>100.000000</td>\n",
       "      <td>100.000000</td>\n",
       "      <td>100.000000</td>\n",
       "      <td>100.000000</td>\n",
       "      <td>100.000000</td>\n",
       "    </tr>\n",
       "    <tr>\n",
       "      <th>mean</th>\n",
       "      <td>37.430000</td>\n",
       "      <td>2.740000</td>\n",
       "      <td>18.830000</td>\n",
       "      <td>0.489362</td>\n",
       "      <td>0.350000</td>\n",
       "      <td>0.400000</td>\n",
       "      <td>0.480000</td>\n",
       "      <td>0.540000</td>\n",
       "      <td>0.270000</td>\n",
       "      <td>0.100000</td>\n",
       "      <td>0.230000</td>\n",
       "    </tr>\n",
       "    <tr>\n",
       "      <th>std</th>\n",
       "      <td>10.961139</td>\n",
       "      <td>1.432805</td>\n",
       "      <td>5.630105</td>\n",
       "      <td>0.502567</td>\n",
       "      <td>0.479372</td>\n",
       "      <td>0.492366</td>\n",
       "      <td>0.502117</td>\n",
       "      <td>0.500908</td>\n",
       "      <td>0.446196</td>\n",
       "      <td>0.301511</td>\n",
       "      <td>0.422953</td>\n",
       "    </tr>\n",
       "    <tr>\n",
       "      <th>min</th>\n",
       "      <td>15.000000</td>\n",
       "      <td>1.000000</td>\n",
       "      <td>2.000000</td>\n",
       "      <td>0.000000</td>\n",
       "      <td>0.000000</td>\n",
       "      <td>0.000000</td>\n",
       "      <td>0.000000</td>\n",
       "      <td>0.000000</td>\n",
       "      <td>0.000000</td>\n",
       "      <td>0.000000</td>\n",
       "      <td>0.000000</td>\n",
       "    </tr>\n",
       "    <tr>\n",
       "      <th>25%</th>\n",
       "      <td>34.000000</td>\n",
       "      <td>2.000000</td>\n",
       "      <td>16.000000</td>\n",
       "      <td>0.000000</td>\n",
       "      <td>0.000000</td>\n",
       "      <td>0.000000</td>\n",
       "      <td>0.000000</td>\n",
       "      <td>0.000000</td>\n",
       "      <td>0.000000</td>\n",
       "      <td>0.000000</td>\n",
       "      <td>0.000000</td>\n",
       "    </tr>\n",
       "    <tr>\n",
       "      <th>50%</th>\n",
       "      <td>36.000000</td>\n",
       "      <td>3.000000</td>\n",
       "      <td>18.000000</td>\n",
       "      <td>0.000000</td>\n",
       "      <td>0.000000</td>\n",
       "      <td>0.000000</td>\n",
       "      <td>0.000000</td>\n",
       "      <td>1.000000</td>\n",
       "      <td>0.000000</td>\n",
       "      <td>0.000000</td>\n",
       "      <td>0.000000</td>\n",
       "    </tr>\n",
       "    <tr>\n",
       "      <th>75%</th>\n",
       "      <td>40.000000</td>\n",
       "      <td>3.000000</td>\n",
       "      <td>20.000000</td>\n",
       "      <td>1.000000</td>\n",
       "      <td>1.000000</td>\n",
       "      <td>1.000000</td>\n",
       "      <td>1.000000</td>\n",
       "      <td>1.000000</td>\n",
       "      <td>1.000000</td>\n",
       "      <td>0.000000</td>\n",
       "      <td>0.000000</td>\n",
       "    </tr>\n",
       "    <tr>\n",
       "      <th>max</th>\n",
       "      <td>89.000000</td>\n",
       "      <td>9.000000</td>\n",
       "      <td>57.000000</td>\n",
       "      <td>1.000000</td>\n",
       "      <td>1.000000</td>\n",
       "      <td>1.000000</td>\n",
       "      <td>1.000000</td>\n",
       "      <td>1.000000</td>\n",
       "      <td>1.000000</td>\n",
       "      <td>1.000000</td>\n",
       "      <td>1.000000</td>\n",
       "    </tr>\n",
       "  </tbody>\n",
       "</table>\n",
       "</div>"
      ],
      "text/plain": [
       "              Age  Sexual Partners  First Sexual Activity Age  \\\n",
       "count  100.000000       100.000000                 100.000000   \n",
       "mean    37.430000         2.740000                  18.830000   \n",
       "std     10.961139         1.432805                   5.630105   \n",
       "min     15.000000         1.000000                   2.000000   \n",
       "25%     34.000000         2.000000                  16.000000   \n",
       "50%     36.000000         3.000000                  18.000000   \n",
       "75%     40.000000         3.000000                  20.000000   \n",
       "max     89.000000         9.000000                  57.000000   \n",
       "\n",
       "       HPV Test Result  Pap Smear Result  Smoking Status  STDs History  \\\n",
       "count        94.000000        100.000000      100.000000    100.000000   \n",
       "mean          0.489362          0.350000        0.400000      0.480000   \n",
       "std           0.502567          0.479372        0.492366      0.502117   \n",
       "min           0.000000          0.000000        0.000000      0.000000   \n",
       "25%           0.000000          0.000000        0.000000      0.000000   \n",
       "50%           0.000000          0.000000        0.000000      0.000000   \n",
       "75%           1.000000          1.000000        1.000000      1.000000   \n",
       "max           1.000000          1.000000        1.000000      1.000000   \n",
       "\n",
       "       Insrance Covered  Needs_Colposcopy  Needs_Vaccine  Needs_Biopsy  \n",
       "count        100.000000        100.000000     100.000000    100.000000  \n",
       "mean           0.540000          0.270000       0.100000      0.230000  \n",
       "std            0.500908          0.446196       0.301511      0.422953  \n",
       "min            0.000000          0.000000       0.000000      0.000000  \n",
       "25%            0.000000          0.000000       0.000000      0.000000  \n",
       "50%            1.000000          0.000000       0.000000      0.000000  \n",
       "75%            1.000000          1.000000       0.000000      0.000000  \n",
       "max            1.000000          1.000000       1.000000      1.000000  "
      ]
     },
     "execution_count": 59,
     "metadata": {},
     "output_type": "execute_result"
    }
   ],
   "source": [
    "cervical.describe()"
   ]
  },
  {
   "cell_type": "code",
   "execution_count": 60,
   "id": "444fa29d",
   "metadata": {},
   "outputs": [
    {
     "data": {
      "text/plain": [
       "Index(['Patient ID', 'Age', 'Sexual Partners', 'First Sexual Activity Age',\n",
       "       'HPV Test Result', 'Pap Smear Result', 'Smoking Status', 'STDs History',\n",
       "       'Region', 'Insrance Covered', 'Screening Type Last',\n",
       "       'Recommended Action', 'Needs_Colposcopy', 'Needs_Vaccine',\n",
       "       'Needs_Biopsy'],\n",
       "      dtype='object')"
      ]
     },
     "execution_count": 60,
     "metadata": {},
     "output_type": "execute_result"
    }
   ],
   "source": [
    "# List all the columns\n",
    "cervical.columns"
   ]
  },
  {
   "cell_type": "code",
   "execution_count": 61,
   "id": "7c86b3a3",
   "metadata": {},
   "outputs": [
    {
     "data": {
      "text/plain": [
       "Patient ID                   100\n",
       "Age                           30\n",
       "Sexual Partners                7\n",
       "First Sexual Activity Age     21\n",
       "HPV Test Result                2\n",
       "Pap Smear Result               2\n",
       "Smoking Status                 2\n",
       "STDs History                   2\n",
       "Region                        19\n",
       "Insrance Covered               2\n",
       "Screening Type Last            3\n",
       "Recommended Action            27\n",
       "Needs_Colposcopy               2\n",
       "Needs_Vaccine                  2\n",
       "Needs_Biopsy                   2\n",
       "dtype: int64"
      ]
     },
     "execution_count": 61,
     "metadata": {},
     "output_type": "execute_result"
    }
   ],
   "source": [
    "# Checking for unique values\n",
    "cervical.nunique()"
   ]
  },
  {
   "cell_type": "code",
   "execution_count": 62,
   "id": "1666ce65",
   "metadata": {},
   "outputs": [
    {
     "data": {
      "text/plain": [
       "np.int64(0)"
      ]
     },
     "execution_count": 62,
     "metadata": {},
     "output_type": "execute_result"
    }
   ],
   "source": [
    "# Checking for duplicates\n",
    "cervical.duplicated().sum()"
   ]
  },
  {
   "cell_type": "markdown",
   "id": "853f42b5",
   "metadata": {},
   "source": [
    "# VISUALIZATION"
   ]
  },
  {
   "cell_type": "code",
   "execution_count": 63,
   "id": "b28b8e41",
   "metadata": {},
   "outputs": [
    {
     "data": {
      "image/png": "[encoded data removed]",
      "text/plain": [
       "<Figure size 1000x600 with 1 Axes>"
      ]
     },
     "metadata": {},
     "output_type": "display_data"
    }
   ],
   "source": [
    "# The age distribution \n",
    "plt.figure(figsize=(10,6))\n",
    "sns.histplot(cervical['Age'], bins=20, kde=True)\n",
    "plt.title('Age Distribution of Patients')\n",
    "plt.xlabel('Age')\n",
    "plt.ylabel('Count')\n",
    "plt.show()"
   ]
  },
  {
   "cell_type": "code",
   "execution_count": 64,
   "id": "44fb0339",
   "metadata": {},
   "outputs": [
    {
     "data": {
      "image/png": "[encoded data removed]",
      "text/plain": [
       "<Figure size 600x600 with 1 Axes>"
      ]
     },
     "metadata": {},
     "output_type": "display_data"
    }
   ],
   "source": [
    "# HPV Test Result\n",
    "plt.figure(figsize=(6,6))\n",
    "cervical['HPV Test Result'].value_counts().plot(kind='pie', autopct='%1.1f%%')\n",
    "plt.title('HPV Test Results Distribution')\n",
    "plt.ylabel('')\n",
    "plt.show()"
   ]
  },
  {
   "cell_type": "code",
   "execution_count": 65,
   "id": "222d35c4",
   "metadata": {},
   "outputs": [
    {
     "data": {
      "image/png": "[encoded data removed]",
      "text/plain": [
       "<Figure size 1000x600 with 1 Axes>"
      ]
     },
     "metadata": {},
     "output_type": "display_data"
    }
   ],
   "source": [
    "# Age vs First Sexual Activity by HPV Status\n",
    "plt.figure(figsize=(10,6))\n",
    "sns.scatterplot(x='Age', y='First Sexual Activity Age', hue='HPV Test Result', data=cervical)\n",
    "plt.title('Age vs. First Sexual Activity Age by HPV Status')\n",
    "plt.show()"
   ]
  },
  {
   "cell_type": "code",
   "execution_count": 69,
   "id": "0be9753d",
   "metadata": {},
   "outputs": [
    {
     "ename": "AttributeError",
     "evalue": "module 'matplotlib.pyplot' has no attribute 'xtickts'",
     "output_type": "error",
     "traceback": [
      "\u001b[31m---------------------------------------------------------------------------\u001b[39m",
      "\u001b[31mAttributeError\u001b[39m                            Traceback (most recent call last)",
      "\u001b[36mCell\u001b[39m\u001b[36m \u001b[39m\u001b[32mIn[69]\u001b[39m\u001b[32m, line 5\u001b[39m\n\u001b[32m      3\u001b[39m sns.boxplot(x=\u001b[33m\"\u001b[39m\u001b[33mHPV Test Result\u001b[39m\u001b[33m\"\u001b[39m, y=\u001b[33m\"\u001b[39m\u001b[33mSexual Partners\u001b[39m\u001b[33m\"\u001b[39m, data = cervical)\n\u001b[32m      4\u001b[39m plt.title(\u001b[33m\"\u001b[39m\u001b[33mNumber of sexual Partners by HPV Status\u001b[39m\u001b[33m\"\u001b[39m)\n\u001b[32m----> \u001b[39m\u001b[32m5\u001b[39m \u001b[43mplt\u001b[49m\u001b[43m.\u001b[49m\u001b[43mxtickts\u001b[49m([\u001b[32m0\u001b[39m,\u001b[32m1\u001b[39m], [\u001b[33m'\u001b[39m\u001b[33mNegative\u001b[39m\u001b[33m'\u001b[39m, \u001b[33m'\u001b[39m\u001b[33mPositive\u001b[39m\u001b[33m'\u001b[39m])\n\u001b[32m      6\u001b[39m plt.show()\n",
      "\u001b[31mAttributeError\u001b[39m: module 'matplotlib.pyplot' has no attribute 'xtickts'"
     ]
    },
    {
     "data": {
      "image/png": "[encoded data removed]",
      "text/plain": [
       "<Figure size 1000x600 with 1 Axes>"
      ]
     },
     "metadata": {},
     "output_type": "display_data"
    }
   ],
   "source": [
    "#Number of sexual partners by HPV Status\n",
    "plt.figure(figsize=(10,6))\n",
    "sns.boxplot(x=\"HPV Test Result\", y=\"Sexual Partners\", data = cervical)\n",
    "plt.title(\"Number of sexual Partners by HPV Status\")\n",
    "plt.xtickts([0,1], ['Negative', 'Positive'])\n",
    "plt.show()"
   ]
  },
  {
   "cell_type": "code",
   "execution_count": 71,
   "id": "070b2072",
   "metadata": {},
   "outputs": [
    {
     "data": {
      "image/png": "[encoded data removed]",
      "text/plain": [
       "<Figure size 1200x600 with 1 Axes>"
      ]
     },
     "metadata": {},
     "output_type": "display_data"
    }
   ],
   "source": [
    "# HPV by region\n",
    "plt.figure(figsize=(12,6))\n",
    "region_hpv = cervical.groupby('Region')['HPV Test Result'].mean().sort_values(ascending=False)\n",
    "region_hpv.plot(kind='bar')\n",
    "plt.title('HPV Positivity Rate by Region')\n",
    "plt.ylabel('Percentage Positive')\n",
    "plt.show()"
   ]
  },
  {
   "cell_type": "code",
   "execution_count": null,
   "id": "7f37a54b",
   "metadata": {},
   "outputs": [],
   "source": []
  }
 ],
 "metadata": {
  "kernelspec": {
   "display_name": "Python 3",
   "language": "python",
   "name": "python3"
  },
  "language_info": {
   "codemirror_mode": {
    "name": "ipython",
    "version": 3
   },
   "file_extension": ".py",
   "mimetype": "text/x-python",
   "name": "python",
   "nbconvert_exporter": "python",
   "pygments_lexer": "ipython3",
   "version": "3.11.9"
  }
 },
 "nbformat": 4,
 "nbformat_minor": 5
}
